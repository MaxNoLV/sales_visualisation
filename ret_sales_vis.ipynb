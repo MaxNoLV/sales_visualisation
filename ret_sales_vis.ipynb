{
 "cells": [
  {
   "cell_type": "markdown",
   "metadata": {},
   "source": [
    "### Retail Sales data visualisation project"
   ]
  },
  {
   "cell_type": "markdown",
   "metadata": {},
   "source": [
    "#### 1. Data load and exploration"
   ]
  },
  {
   "cell_type": "code",
   "execution_count": 1,
   "metadata": {},
   "outputs": [],
   "source": [
    "import pandas as pd\n",
    "import numpy as np"
   ]
  },
  {
   "cell_type": "code",
   "execution_count": 2,
   "metadata": {},
   "outputs": [],
   "source": [
    "data = pd.read_excel('/Users/maksimnoskov/Documents/tsi_term2/bi_dv_project/sales_visualisation/ret_sales.xlsx')"
   ]
  },
  {
   "cell_type": "code",
   "execution_count": 3,
   "metadata": {},
   "outputs": [],
   "source": [
    "data.columns = data.columns.str.lower()"
   ]
  },
  {
   "cell_type": "code",
   "execution_count": 4,
   "metadata": {},
   "outputs": [
    {
     "data": {
      "text/html": [
       "<div>\n",
       "<style scoped>\n",
       "    .dataframe tbody tr th:only-of-type {\n",
       "        vertical-align: middle;\n",
       "    }\n",
       "\n",
       "    .dataframe tbody tr th {\n",
       "        vertical-align: top;\n",
       "    }\n",
       "\n",
       "    .dataframe thead th {\n",
       "        text-align: right;\n",
       "    }\n",
       "</style>\n",
       "<table border=\"1\" class=\"dataframe\">\n",
       "  <thead>\n",
       "    <tr style=\"text-align: right;\">\n",
       "      <th></th>\n",
       "      <th>invoice_number</th>\n",
       "      <th>invoice_date</th>\n",
       "      <th>order_date</th>\n",
       "      <th>delay_days</th>\n",
       "      <th>order_type</th>\n",
       "      <th>order_quantity</th>\n",
       "      <th>shipped_quantity</th>\n",
       "      <th>sales_amount</th>\n",
       "      <th>unit_price</th>\n",
       "      <th>customer_number</th>\n",
       "      <th>...</th>\n",
       "      <th>item_department</th>\n",
       "      <th>item_section</th>\n",
       "      <th>item_group</th>\n",
       "      <th>warehouse_number</th>\n",
       "      <th>warehouse_name</th>\n",
       "      <th>warehouse_region_name</th>\n",
       "      <th>vendor_number</th>\n",
       "      <th>vendor_name</th>\n",
       "      <th>supplier_id</th>\n",
       "      <th>supplier_name</th>\n",
       "    </tr>\n",
       "  </thead>\n",
       "  <tbody>\n",
       "    <tr>\n",
       "      <th>0</th>\n",
       "      <td>6735217</td>\n",
       "      <td>2017-11-29</td>\n",
       "      <td>2017-11-28</td>\n",
       "      <td>1</td>\n",
       "      <td>REGULAR</td>\n",
       "      <td>6</td>\n",
       "      <td>6</td>\n",
       "      <td>3.36</td>\n",
       "      <td>0.56</td>\n",
       "      <td>410</td>\n",
       "      <td>...</td>\n",
       "      <td>40</td>\n",
       "      <td>12</td>\n",
       "      <td>170</td>\n",
       "      <td>901</td>\n",
       "      <td>FLORIDA HABS WAREHOUSE</td>\n",
       "      <td>FLORIDA</td>\n",
       "      <td>1004</td>\n",
       "      <td>BOW PLUMBING GROUP INC.</td>\n",
       "      <td>98832975</td>\n",
       "      <td>BRANDS GLOBAL CO.</td>\n",
       "    </tr>\n",
       "    <tr>\n",
       "      <th>1</th>\n",
       "      <td>6165708</td>\n",
       "      <td>2019-06-26</td>\n",
       "      <td>2019-06-24</td>\n",
       "      <td>2</td>\n",
       "      <td>REGULAR</td>\n",
       "      <td>3</td>\n",
       "      <td>3</td>\n",
       "      <td>12.00</td>\n",
       "      <td>4.00</td>\n",
       "      <td>1375</td>\n",
       "      <td>...</td>\n",
       "      <td>40</td>\n",
       "      <td>12</td>\n",
       "      <td>160</td>\n",
       "      <td>901</td>\n",
       "      <td>FLORIDA HABS WAREHOUSE</td>\n",
       "      <td>FLORIDA</td>\n",
       "      <td>1004</td>\n",
       "      <td>BOW PLUMBING GROUP INC.</td>\n",
       "      <td>98832975</td>\n",
       "      <td>BRANDS GLOBAL CO.</td>\n",
       "    </tr>\n",
       "    <tr>\n",
       "      <th>2</th>\n",
       "      <td>6517073</td>\n",
       "      <td>2018-09-10</td>\n",
       "      <td>2018-09-08</td>\n",
       "      <td>2</td>\n",
       "      <td>REGULAR</td>\n",
       "      <td>4</td>\n",
       "      <td>4</td>\n",
       "      <td>7.16</td>\n",
       "      <td>1.79</td>\n",
       "      <td>2196</td>\n",
       "      <td>...</td>\n",
       "      <td>40</td>\n",
       "      <td>12</td>\n",
       "      <td>120</td>\n",
       "      <td>901</td>\n",
       "      <td>FLORIDA HABS WAREHOUSE</td>\n",
       "      <td>FLORIDA</td>\n",
       "      <td>1004</td>\n",
       "      <td>BOW PLUMBING GROUP INC.</td>\n",
       "      <td>98832975</td>\n",
       "      <td>BRANDS GLOBAL CO.</td>\n",
       "    </tr>\n",
       "    <tr>\n",
       "      <th>3</th>\n",
       "      <td>6723693</td>\n",
       "      <td>2020-05-13</td>\n",
       "      <td>2020-05-09</td>\n",
       "      <td>4</td>\n",
       "      <td>REGULAR</td>\n",
       "      <td>4</td>\n",
       "      <td>4</td>\n",
       "      <td>19.60</td>\n",
       "      <td>4.90</td>\n",
       "      <td>1934</td>\n",
       "      <td>...</td>\n",
       "      <td>40</td>\n",
       "      <td>12</td>\n",
       "      <td>120</td>\n",
       "      <td>901</td>\n",
       "      <td>FLORIDA HABS WAREHOUSE</td>\n",
       "      <td>FLORIDA</td>\n",
       "      <td>1004</td>\n",
       "      <td>BOW PLUMBING GROUP INC.</td>\n",
       "      <td>98832975</td>\n",
       "      <td>BRANDS GLOBAL CO.</td>\n",
       "    </tr>\n",
       "    <tr>\n",
       "      <th>4</th>\n",
       "      <td>6766514</td>\n",
       "      <td>2019-01-28</td>\n",
       "      <td>2019-01-25</td>\n",
       "      <td>3</td>\n",
       "      <td>REGULAR</td>\n",
       "      <td>6</td>\n",
       "      <td>6</td>\n",
       "      <td>62.58</td>\n",
       "      <td>10.43</td>\n",
       "      <td>75379</td>\n",
       "      <td>...</td>\n",
       "      <td>40</td>\n",
       "      <td>12</td>\n",
       "      <td>180</td>\n",
       "      <td>901</td>\n",
       "      <td>FLORIDA HABS WAREHOUSE</td>\n",
       "      <td>FLORIDA</td>\n",
       "      <td>1004</td>\n",
       "      <td>BOW PLUMBING GROUP INC.</td>\n",
       "      <td>98832975</td>\n",
       "      <td>BRANDS GLOBAL CO.</td>\n",
       "    </tr>\n",
       "  </tbody>\n",
       "</table>\n",
       "<p>5 rows × 25 columns</p>\n",
       "</div>"
      ],
      "text/plain": [
       "  invoice_number invoice_date order_date  delay_days order_type  \\\n",
       "0        6735217   2017-11-29 2017-11-28           1    REGULAR   \n",
       "1        6165708   2019-06-26 2019-06-24           2    REGULAR   \n",
       "2        6517073   2018-09-10 2018-09-08           2    REGULAR   \n",
       "3        6723693   2020-05-13 2020-05-09           4    REGULAR   \n",
       "4        6766514   2019-01-28 2019-01-25           3    REGULAR   \n",
       "\n",
       "   order_quantity  shipped_quantity  sales_amount  unit_price  \\\n",
       "0               6                 6          3.36        0.56   \n",
       "1               3                 3         12.00        4.00   \n",
       "2               4                 4          7.16        1.79   \n",
       "3               4                 4         19.60        4.90   \n",
       "4               6                 6         62.58       10.43   \n",
       "\n",
       "   customer_number  ...  item_department  item_section item_group  \\\n",
       "0              410  ...               40            12        170   \n",
       "1             1375  ...               40            12        160   \n",
       "2             2196  ...               40            12        120   \n",
       "3             1934  ...               40            12        120   \n",
       "4            75379  ...               40            12        180   \n",
       "\n",
       "   warehouse_number          warehouse_name  warehouse_region_name  \\\n",
       "0               901  FLORIDA HABS WAREHOUSE                FLORIDA   \n",
       "1               901  FLORIDA HABS WAREHOUSE                FLORIDA   \n",
       "2               901  FLORIDA HABS WAREHOUSE                FLORIDA   \n",
       "3               901  FLORIDA HABS WAREHOUSE                FLORIDA   \n",
       "4               901  FLORIDA HABS WAREHOUSE                FLORIDA   \n",
       "\n",
       "   vendor_number              vendor_name  supplier_id      supplier_name  \n",
       "0           1004  BOW PLUMBING GROUP INC.     98832975  BRANDS GLOBAL CO.  \n",
       "1           1004  BOW PLUMBING GROUP INC.     98832975  BRANDS GLOBAL CO.  \n",
       "2           1004  BOW PLUMBING GROUP INC.     98832975  BRANDS GLOBAL CO.  \n",
       "3           1004  BOW PLUMBING GROUP INC.     98832975  BRANDS GLOBAL CO.  \n",
       "4           1004  BOW PLUMBING GROUP INC.     98832975  BRANDS GLOBAL CO.  \n",
       "\n",
       "[5 rows x 25 columns]"
      ]
     },
     "execution_count": 4,
     "metadata": {},
     "output_type": "execute_result"
    }
   ],
   "source": [
    "data.head()"
   ]
  },
  {
   "cell_type": "code",
   "execution_count": 5,
   "metadata": {},
   "outputs": [
    {
     "data": {
      "text/plain": [
       "10000"
      ]
     },
     "execution_count": 5,
     "metadata": {},
     "output_type": "execute_result"
    }
   ],
   "source": [
    "# Getting # of rows in a given dataset\n",
    "\n",
    "len(data)"
   ]
  },
  {
   "cell_type": "code",
   "execution_count": 14,
   "metadata": {},
   "outputs": [
    {
     "data": {
      "text/plain": [
       "True"
      ]
     },
     "execution_count": 14,
     "metadata": {},
     "output_type": "execute_result"
    }
   ],
   "source": [
    "data['order_number'].equals(data['invoice_number'])"
   ]
  },
  {
   "cell_type": "code",
   "execution_count": 6,
   "metadata": {},
   "outputs": [
    {
     "name": "stdout",
     "output_type": "stream",
     "text": [
      "<class 'pandas.core.frame.DataFrame'>\n",
      "RangeIndex: 10000 entries, 0 to 9999\n",
      "Data columns (total 25 columns):\n",
      " #   Column                 Non-Null Count  Dtype         \n",
      "---  ------                 --------------  -----         \n",
      " 0   invoice_number         10000 non-null  object        \n",
      " 1   invoice_date           10000 non-null  datetime64[ns]\n",
      " 2   order_date             10000 non-null  datetime64[ns]\n",
      " 3   delay_days             10000 non-null  int64         \n",
      " 4   order_type             10000 non-null  object        \n",
      " 5   order_quantity         10000 non-null  int64         \n",
      " 6   shipped_quantity       10000 non-null  int64         \n",
      " 7   sales_amount           10000 non-null  float64       \n",
      " 8   unit_price             10000 non-null  float64       \n",
      " 9   customer_number        10000 non-null  int64         \n",
      " 10  customer_location      10000 non-null  int64         \n",
      " 11  customer_department    10000 non-null  int64         \n",
      " 12  customer_province      10000 non-null  object        \n",
      " 13  item_id                10000 non-null  int64         \n",
      " 14  item_description       9928 non-null   object        \n",
      " 15  item_department        10000 non-null  int64         \n",
      " 16  item_section           10000 non-null  int64         \n",
      " 17  item_group             10000 non-null  int64         \n",
      " 18  warehouse_number       10000 non-null  int64         \n",
      " 19  warehouse_name         10000 non-null  object        \n",
      " 20  warehouse_region_name  10000 non-null  object        \n",
      " 21  vendor_number          10000 non-null  int64         \n",
      " 22  vendor_name            10000 non-null  object        \n",
      " 23  supplier_id            10000 non-null  int64         \n",
      " 24  supplier_name          10000 non-null  object        \n",
      "dtypes: datetime64[ns](2), float64(2), int64(13), object(8)\n",
      "memory usage: 1.9+ MB\n"
     ]
    }
   ],
   "source": [
    "data.info()"
   ]
  },
  {
   "cell_type": "code",
   "execution_count": 7,
   "metadata": {},
   "outputs": [
    {
     "name": "stdout",
     "output_type": "stream",
     "text": [
      "Total number of empty or whitespace-only entries in the DataFrame: 52\n"
     ]
    }
   ],
   "source": [
    "# As data.info() doesn't always interpret empty strings or whitespace as null values I need to check for NaN values\n",
    "# using another approach.\n",
    "\n",
    "empty_or_whitespace_mask = data.map(lambda x: x.strip() == '' if isinstance(x, str) else False)\n",
    "empty_or_whitespace_count = empty_or_whitespace_mask.sum().sum()\n",
    "print(\"Total number of empty or whitespace-only entries in the DataFrame:\", empty_or_whitespace_count)"
   ]
  },
  {
   "cell_type": "code",
   "execution_count": 8,
   "metadata": {},
   "outputs": [
    {
     "name": "stdout",
     "output_type": "stream",
     "text": [
      "<class 'pandas.core.frame.DataFrame'>\n",
      "RangeIndex: 10000 entries, 0 to 9999\n",
      "Data columns (total 25 columns):\n",
      " #   Column                 Non-Null Count  Dtype         \n",
      "---  ------                 --------------  -----         \n",
      " 0   invoice_number         10000 non-null  object        \n",
      " 1   invoice_date           10000 non-null  datetime64[ns]\n",
      " 2   order_date             10000 non-null  datetime64[ns]\n",
      " 3   delay_days             10000 non-null  int64         \n",
      " 4   order_type             10000 non-null  object        \n",
      " 5   order_quantity         10000 non-null  int64         \n",
      " 6   shipped_quantity       10000 non-null  int64         \n",
      " 7   sales_amount           10000 non-null  float64       \n",
      " 8   unit_price             10000 non-null  float64       \n",
      " 9   customer_number        10000 non-null  int64         \n",
      " 10  customer_location      10000 non-null  int64         \n",
      " 11  customer_department    10000 non-null  int64         \n",
      " 12  customer_province      9948 non-null   object        \n",
      " 13  item_id                10000 non-null  int64         \n",
      " 14  item_description       9928 non-null   object        \n",
      " 15  item_department        10000 non-null  int64         \n",
      " 16  item_section           10000 non-null  int64         \n",
      " 17  item_group             10000 non-null  int64         \n",
      " 18  warehouse_number       10000 non-null  int64         \n",
      " 19  warehouse_name         10000 non-null  object        \n",
      " 20  warehouse_region_name  10000 non-null  object        \n",
      " 21  vendor_number          10000 non-null  int64         \n",
      " 22  vendor_name            10000 non-null  object        \n",
      " 23  supplier_id            10000 non-null  int64         \n",
      " 24  supplier_name          10000 non-null  object        \n",
      "dtypes: datetime64[ns](2), float64(2), int64(13), object(8)\n",
      "memory usage: 1.9+ MB\n"
     ]
    }
   ],
   "source": [
    "# Replacing these entries with NaN\n",
    "\n",
    "data.replace(r'^\\s*$', np.nan, regex=True, inplace=True)\n",
    "data.info()"
   ]
  },
  {
   "cell_type": "code",
   "execution_count": 9,
   "metadata": {},
   "outputs": [
    {
     "name": "stdout",
     "output_type": "stream",
     "text": [
      "Number of duplicate rows in the Dataaset: 0\n"
     ]
    }
   ],
   "source": [
    "# Check for full duplicates in a dataset\n",
    "\n",
    "duplicate_rows = data.duplicated(keep=False)\n",
    "duplicate_rows_count = duplicate_rows.sum()\n",
    "print('Number of duplicate rows in the Dataaset:', duplicate_rows_count)"
   ]
  },
  {
   "cell_type": "code",
   "execution_count": null,
   "metadata": {},
   "outputs": [],
   "source": [
    "# I separate returns into a separate file \n",
    "\n",
    "returns = data[data['average_cost_price'] < 0]"
   ]
  },
  {
   "cell_type": "code",
   "execution_count": 23,
   "metadata": {},
   "outputs": [],
   "source": [
    "returns.to_csv('returns.csv', index=False)"
   ]
  },
  {
   "cell_type": "code",
   "execution_count": 25,
   "metadata": {},
   "outputs": [],
   "source": [
    "# Update my main DataFrame by keeping only the rows where average_cost_price values are 0 or positive:\n",
    "\n",
    "data = data[data['average_cost_price'] >= 0]"
   ]
  },
  {
   "cell_type": "code",
   "execution_count": 32,
   "metadata": {},
   "outputs": [],
   "source": [
    "# Delete a row with NaN value in 'customer_province' column\n",
    "\n",
    "data = data.dropna(subset=['customer_province'])"
   ]
  },
  {
   "cell_type": "code",
   "execution_count": 33,
   "metadata": {},
   "outputs": [
    {
     "data": {
      "text/plain": [
       "9948"
      ]
     },
     "execution_count": 33,
     "metadata": {},
     "output_type": "execute_result"
    }
   ],
   "source": [
    "len(data)"
   ]
  },
  {
   "cell_type": "code",
   "execution_count": 35,
   "metadata": {},
   "outputs": [
    {
     "name": "stdout",
     "output_type": "stream",
     "text": [
      "<class 'pandas.core.frame.DataFrame'>\n",
      "Index: 9948 entries, 0 to 9999\n",
      "Data columns (total 46 columns):\n",
      " #   Column                      Non-Null Count  Dtype         \n",
      "---  ------                      --------------  -----         \n",
      " 0   order_number                9948 non-null   object        \n",
      " 1   shipment_number             9948 non-null   int64         \n",
      " 2   item_number                 9948 non-null   int64         \n",
      " 3   invoice_number              9948 non-null   object        \n",
      " 4   invoice_date                9948 non-null   datetime64[ns]\n",
      " 5   order_date                  9948 non-null   datetime64[ns]\n",
      " 6   customer_number             9948 non-null   int64         \n",
      " 7   customer_location           9948 non-null   int64         \n",
      " 8   customer_department         9948 non-null   int64         \n",
      " 9   customer_province           9948 non-null   object        \n",
      " 10  item_description            9876 non-null   object        \n",
      " 11  shipping_region_identifier  9948 non-null   int64         \n",
      " 12  shipping_region_code        9948 non-null   object        \n",
      " 13  shipping_region_name        9948 non-null   object        \n",
      " 14  shipping_unit_measure       9948 non-null   object        \n",
      " 15  shipping_pack_quantity      9948 non-null   int64         \n",
      " 16  item_unit_quantity          9948 non-null   float64       \n",
      " 17  item_department             9948 non-null   int64         \n",
      " 18  item_section                9948 non-null   int64         \n",
      " 19  item_section_module         9948 non-null   int64         \n",
      " 20  item_group                  9948 non-null   int64         \n",
      " 21  item_sequence               9948 non-null   int64         \n",
      " 22  item_stock_status           9948 non-null   object        \n",
      " 23  warehouse_identifier        9948 non-null   int64         \n",
      " 24  warehouse_number            9948 non-null   int64         \n",
      " 25  warehouse_name              9948 non-null   object        \n",
      " 26  warehouse_region_name       9948 non-null   object        \n",
      " 27  vendor_identifier           9948 non-null   int64         \n",
      " 28  vendor_number               9948 non-null   int64         \n",
      " 29  vendor_name                 9948 non-null   object        \n",
      " 30  vendor_city                 9948 non-null   object        \n",
      " 31  vendor_country              9948 non-null   object        \n",
      " 32  vendor_address              9948 non-null   object        \n",
      " 33  order_quantity              9948 non-null   int64         \n",
      " 34  shipped_quantity            9948 non-null   int64         \n",
      " 35  company_identifier          9948 non-null   int64         \n",
      " 36  company_code                9948 non-null   int64         \n",
      " 37  company_name                9948 non-null   object        \n",
      " 38  company_number              9948 non-null   int64         \n",
      " 39  average_cost_price          9948 non-null   float64       \n",
      " 40  sales_amount                9948 non-null   float64       \n",
      " 41  invoice_amount              9948 non-null   float64       \n",
      " 42  cost_price                  9948 non-null   float64       \n",
      " 43  upc_number                  9948 non-null   int64         \n",
      " 44  purchase_order_number       9948 non-null   object        \n",
      " 45  order_type                  9948 non-null   object        \n",
      "dtypes: datetime64[ns](2), float64(5), int64(22), object(17)\n",
      "memory usage: 3.6+ MB\n"
     ]
    }
   ],
   "source": [
    "data.info()"
   ]
  },
  {
   "cell_type": "markdown",
   "metadata": {},
   "source": [
    "If I need to transform the columns with dates and divide them into days, months and years. Most likely this will not be necessary since Power BI will take dates in the Date format.</br>\n",
    "May be I won't need these transformations as values in 'invoice_date' and 'order_date' columns are in *datetime64[ns]* format"
   ]
  },
  {
   "cell_type": "code",
   "execution_count": 10,
   "metadata": {},
   "outputs": [],
   "source": [
    "data['invoice_year'] = data['invoice_date'].dt.year\n",
    "data['invoice_month'] = data['invoice_date'].dt.month\n",
    "data['invoice_day'] = data['invoice_date'].dt.day\n",
    "\n",
    "data['order_year'] = data['order_date'].dt.year\n",
    "data['order_month'] = data['order_date'].dt.month\n",
    "data['order_day'] = data['order_date'].dt.day"
   ]
  },
  {
   "cell_type": "code",
   "execution_count": 11,
   "metadata": {},
   "outputs": [
    {
     "data": {
      "text/html": [
       "<div>\n",
       "<style scoped>\n",
       "    .dataframe tbody tr th:only-of-type {\n",
       "        vertical-align: middle;\n",
       "    }\n",
       "\n",
       "    .dataframe tbody tr th {\n",
       "        vertical-align: top;\n",
       "    }\n",
       "\n",
       "    .dataframe thead th {\n",
       "        text-align: right;\n",
       "    }\n",
       "</style>\n",
       "<table border=\"1\" class=\"dataframe\">\n",
       "  <thead>\n",
       "    <tr style=\"text-align: right;\">\n",
       "      <th></th>\n",
       "      <th>invoice_date</th>\n",
       "      <th>invoice_year</th>\n",
       "      <th>invoice_month</th>\n",
       "      <th>invoice_day</th>\n",
       "      <th>order_date</th>\n",
       "      <th>order_year</th>\n",
       "      <th>order_month</th>\n",
       "      <th>order_day</th>\n",
       "    </tr>\n",
       "  </thead>\n",
       "  <tbody>\n",
       "    <tr>\n",
       "      <th>0</th>\n",
       "      <td>2017-11-29</td>\n",
       "      <td>2017</td>\n",
       "      <td>11</td>\n",
       "      <td>29</td>\n",
       "      <td>2017-11-28</td>\n",
       "      <td>2017</td>\n",
       "      <td>11</td>\n",
       "      <td>28</td>\n",
       "    </tr>\n",
       "    <tr>\n",
       "      <th>1</th>\n",
       "      <td>2019-06-26</td>\n",
       "      <td>2019</td>\n",
       "      <td>6</td>\n",
       "      <td>26</td>\n",
       "      <td>2019-06-24</td>\n",
       "      <td>2019</td>\n",
       "      <td>6</td>\n",
       "      <td>24</td>\n",
       "    </tr>\n",
       "    <tr>\n",
       "      <th>2</th>\n",
       "      <td>2018-09-10</td>\n",
       "      <td>2018</td>\n",
       "      <td>9</td>\n",
       "      <td>10</td>\n",
       "      <td>2018-09-08</td>\n",
       "      <td>2018</td>\n",
       "      <td>9</td>\n",
       "      <td>8</td>\n",
       "    </tr>\n",
       "    <tr>\n",
       "      <th>3</th>\n",
       "      <td>2020-05-13</td>\n",
       "      <td>2020</td>\n",
       "      <td>5</td>\n",
       "      <td>13</td>\n",
       "      <td>2020-05-09</td>\n",
       "      <td>2020</td>\n",
       "      <td>5</td>\n",
       "      <td>9</td>\n",
       "    </tr>\n",
       "    <tr>\n",
       "      <th>4</th>\n",
       "      <td>2019-01-28</td>\n",
       "      <td>2019</td>\n",
       "      <td>1</td>\n",
       "      <td>28</td>\n",
       "      <td>2019-01-25</td>\n",
       "      <td>2019</td>\n",
       "      <td>1</td>\n",
       "      <td>25</td>\n",
       "    </tr>\n",
       "  </tbody>\n",
       "</table>\n",
       "</div>"
      ],
      "text/plain": [
       "  invoice_date  invoice_year  invoice_month  invoice_day order_date  \\\n",
       "0   2017-11-29          2017             11           29 2017-11-28   \n",
       "1   2019-06-26          2019              6           26 2019-06-24   \n",
       "2   2018-09-10          2018              9           10 2018-09-08   \n",
       "3   2020-05-13          2020              5           13 2020-05-09   \n",
       "4   2019-01-28          2019              1           28 2019-01-25   \n",
       "\n",
       "   order_year  order_month  order_day  \n",
       "0        2017           11         28  \n",
       "1        2019            6         24  \n",
       "2        2018            9          8  \n",
       "3        2020            5          9  \n",
       "4        2019            1         25  "
      ]
     },
     "execution_count": 11,
     "metadata": {},
     "output_type": "execute_result"
    }
   ],
   "source": [
    "# Checking new columns with transformed dates\n",
    "\n",
    "data[['invoice_date', 'invoice_year', 'invoice_month', 'invoice_day',\n",
    "            'order_date', 'order_year', 'order_month', 'order_day']].head()"
   ]
  },
  {
   "cell_type": "code",
   "execution_count": 36,
   "metadata": {},
   "outputs": [
    {
     "data": {
      "text/plain": [
       "customer_location\n",
       "1      4005\n",
       "2       551\n",
       "4       446\n",
       "6       435\n",
       "3       357\n",
       "       ... \n",
       "335       1\n",
       "711       1\n",
       "46        1\n",
       "641       1\n",
       "861       1\n",
       "Name: count, Length: 126, dtype: int64"
      ]
     },
     "execution_count": 36,
     "metadata": {},
     "output_type": "execute_result"
    }
   ],
   "source": [
    "data['customer_location'].value_counts()"
   ]
  },
  {
   "cell_type": "code",
   "execution_count": 39,
   "metadata": {},
   "outputs": [
    {
     "data": {
      "text/plain": [
       "item_department\n",
       "30    8859\n",
       "40    1029\n",
       "0       31\n",
       "20      28\n",
       "10       1\n",
       "Name: count, dtype: int64"
      ]
     },
     "execution_count": 39,
     "metadata": {},
     "output_type": "execute_result"
    }
   ],
   "source": [
    "data['item_department'].value_counts()"
   ]
  },
  {
   "cell_type": "code",
   "execution_count": 12,
   "metadata": {},
   "outputs": [
    {
     "data": {
      "text/plain": [
       "635"
      ]
     },
     "execution_count": 12,
     "metadata": {},
     "output_type": "execute_result"
    }
   ],
   "source": [
    "# Working with customer_number column. Counting # of unique customers\n",
    "\n",
    "data['customer_number'].nunique()"
   ]
  },
  {
   "cell_type": "code",
   "execution_count": 13,
   "metadata": {},
   "outputs": [
    {
     "data": {
      "text/plain": [
       "customer_province\n",
       "ARIZONA       3956\n",
       "TEXAS         3217\n",
       "CALIFORNIA    1875\n",
       "MICHIGAN       494\n",
       "FLORIDA        168\n",
       "NEW JERSEY     110\n",
       "GEORGIA        106\n",
       "                52\n",
       "OHIO            22\n",
       "Name: count, dtype: int64"
      ]
     },
     "execution_count": 13,
     "metadata": {},
     "output_type": "execute_result"
    }
   ],
   "source": [
    "data['customer_province'].value_counts()"
   ]
  },
  {
   "cell_type": "code",
   "execution_count": null,
   "metadata": {},
   "outputs": [],
   "source": []
  }
 ],
 "metadata": {
  "kernelspec": {
   "display_name": "base",
   "language": "python",
   "name": "python3"
  },
  "language_info": {
   "codemirror_mode": {
    "name": "ipython",
    "version": 3
   },
   "file_extension": ".py",
   "mimetype": "text/x-python",
   "name": "python",
   "nbconvert_exporter": "python",
   "pygments_lexer": "ipython3",
   "version": "3.12.7"
  }
 },
 "nbformat": 4,
 "nbformat_minor": 2
}
